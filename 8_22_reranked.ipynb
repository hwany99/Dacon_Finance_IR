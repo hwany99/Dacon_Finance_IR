{
 "cells": [
  {
   "cell_type": "code",
   "execution_count": 3,
   "metadata": {},
   "outputs": [],
   "source": [
    "import os\n",
    "import unicodedata\n",
    "\n",
    "import torch\n",
    "import pandas as pd\n",
    "from tqdm import tqdm\n",
    "import fitz  # PyMuPDF\n",
    "\n",
    "from transformers import (\n",
    "    AutoTokenizer,\n",
    "    AutoModelForCausalLM,\n",
    "    pipeline,\n",
    "    BitsAndBytesConfig,\n",
    "    Gemma2ForCausalLM\n",
    ")\n",
    "from accelerate import Accelerator\n",
    "\n",
    "# Langchain 관련\n",
    "from langchain.llms import HuggingFacePipeline\n",
    "from langchain.embeddings import HuggingFaceEmbeddings\n",
    "from langchain.vectorstores import FAISS\n",
    "from langchain.schema import Document\n",
    "from langchain.text_splitter import RecursiveCharacterTextSplitter\n",
    "from langchain.prompts import PromptTemplate\n",
    "from langchain.schema.runnable import RunnablePassthrough\n",
    "from langchain.schema.output_parser import StrOutputParser\n",
    "from langchain_community.vectorstores.utils import DistanceStrategy\n",
    "from langchain.schema.output_parser import StrOutputParser\n",
    "from langchain_teddynote.retrievers import KiwiBM25Retriever\n",
    "from langchain.retrievers import EnsembleRetriever, MultiQueryRetriever\n",
    "from peft import PeftModel"
   ]
  },
  {
   "cell_type": "code",
   "execution_count": 4,
   "metadata": {},
   "outputs": [],
   "source": [
    "from utils.extract_module import daconCustomExtractor\n",
    "\n",
    "def process_pdf(file_path):\n",
    "    # 1. pdf별 page 추출\n",
    "    doc = fitz.open(file_path)\n",
    "    outpt_dir = \"/home/a2024712006/dacon/extract_image\"\n",
    "    chunk_list = []\n",
    "    for page_number in range(doc.page_count):\n",
    "        page = doc.load_page(page_number)\n",
    "        \n",
    "        #2. page별 테이블 추출 \n",
    "        tables = page.find_tables()\n",
    "        raw_text_list = []\n",
    "        for table in tables:\n",
    "            # 테이블을 감싸는 영역 계산\n",
    "            min_x, min_y = float('inf'), float('inf')\n",
    "            max_x, max_y = float('-inf'), float('-inf')\n",
    "            \n",
    "            for cell in table.cells:\n",
    "                x0, y0, x1, y1 = cell[:4]  # 셀 좌표 추출\n",
    "                min_x = min(min_x, x0)\n",
    "                min_y = min(min_y, y0)\n",
    "                max_x = max(max_x, x1)\n",
    "                max_y = max(max_y, y1)\n",
    "            # 1) 발견된 테이블 영역 \n",
    "            table_rect = fitz.Rect(min_x, min_y, max_x, max_y)\n",
    "            # 2) 발견된 테이블 영역의 테이블 형식 텍스트\n",
    "            table_text = \"\\n\"\n",
    "            for row in table.extract():\n",
    "                table_text += str(row)\n",
    "                table_text += \"\\n\"\n",
    "            # 3) 발견된 테이블 영역의 날 것 텍스트 \n",
    "            clipped_text = page.get_text(\"text\", clip=table_rect)\n",
    "            \n",
    "            # 4) 날 것 텍스트 => 테이블 형식 텍스트로 변환\n",
    "            raw_text_list.append((clipped_text, table_text))\n",
    "            \n",
    "        # 2. page별 이미지 추출        \n",
    "        extractor = daconCustomExtractor(page) \n",
    "        bboxes = extractor.detect_svg_contours(page_number+1, output_dir=outpt_dir, min_svg_gap_dx=25.0, min_svg_gap_dy=25.0, min_w=2.0, min_h=2.0)\n",
    "\n",
    "        # # 텍스트를 chunk로 분할\n",
    "        # splitter = RecursiveCharacterTextSplitter(\n",
    "        #     chunk_size=512,\n",
    "        #     chunk_overlap=32\n",
    "        # )    \n",
    "        # 3. 이미지별 텍스트 추출\n",
    "        for i, bbox in enumerate(bboxes):\n",
    "            x0, y0, x1, y1 = bbox \n",
    "            \n",
    "            full_text = page.get_text(\"text\", clip=fitz.Rect(x0, y0, x1, y1))\n",
    "            for clipped_text, table_text in raw_text_list:\n",
    "                if clipped_text in full_text:\n",
    "                    full_text = full_text.replace(clipped_text, table_text)\n",
    "                    \n",
    "            chunk_list.append(full_text)\n",
    "            # chunk_temp = splitter.split_text(full_text)\n",
    "            # chunk_list.extend(chunk_temp)\n",
    "            \n",
    "    chunks = [Document(page_content=t) for t in chunk_list]\n",
    "    return chunks\n",
    "\n",
    "def create_vector_db(chunks, model_path=\"BAAI/bge-m3\"):\n",
    "    \"\"\"FAISS DB 생성\"\"\"\n",
    "    # 임베딩 모델 설정\n",
    "    model_kwargs = {'device': 'cuda'}\n",
    "    encode_kwargs = {'normalize_embeddings': True}\n",
    "    embeddings = HuggingFaceEmbeddings(\n",
    "        model_name=model_path,\n",
    "        model_kwargs=model_kwargs,\n",
    "        encode_kwargs=encode_kwargs\n",
    "    )\n",
    "    # FAISS DB 생성 및 반환\n",
    "    db = FAISS.from_documents(chunks, embedding=embeddings, distance_strategy = DistanceStrategy.COSINE)\n",
    "    return db\n",
    "\n",
    "def normalize_path(path):\n",
    "    \"\"\"경로 유니코드 정규화\"\"\"\n",
    "    return unicodedata.normalize('NFC', path)\n",
    "\n",
    "def normalize_string(s):\n",
    "    \"\"\"유니코드 정규화\"\"\"\n",
    "    return unicodedata.normalize('NFC', s)\n",
    "\n",
    "def process_pdfs_from_dataframe(df, base_directory):\n",
    "    \"\"\"딕셔너리에 pdf명을 키로해서 DB, retriever 저장\"\"\"\n",
    "    pdf_databases = {}\n",
    "    unique_paths = df['Source_path'].unique()\n",
    "    \n",
    "    for path in tqdm(unique_paths, desc=\"Processing PDFs\"):\n",
    "        # 경로 정규화 및 절대 경로 생성\n",
    "        normalized_path = normalize_path(path)\n",
    "        full_path = os.path.normpath(os.path.join(base_directory, normalized_path.lstrip('./'))) if not os.path.isabs(normalized_path) else normalized_path\n",
    "        \n",
    "        pdf_title = os.path.splitext(os.path.basename(full_path))[0]\n",
    "        print(f\"Processing {pdf_title}...\")\n",
    "        \n",
    "        # PDF 처리 및 벡터 DB 생성\n",
    "        chunks = process_pdf(full_path)\n",
    "        db = create_vector_db(chunks)\n",
    "        kiwi_bm25_retriever = KiwiBM25Retriever.from_documents(chunks)\n",
    "        faiss_retriever = db.as_retriever()\n",
    "        # Retriever 생성\n",
    "        retriever = EnsembleRetriever(\n",
    "            retrievers=[kiwi_bm25_retriever, faiss_retriever],\n",
    "            weights=[0.5, 0.5],\n",
    "            search_type=\"mmr\",\n",
    "        )\n",
    "        \n",
    "        # 결과 저장\n",
    "        pdf_databases[pdf_title] = {\n",
    "                'db': db,\n",
    "                'retriever': retriever\n",
    "        }\n",
    "    return pdf_databases"
   ]
  },
  {
   "cell_type": "code",
   "execution_count": 5,
   "metadata": {},
   "outputs": [
    {
     "name": "stderr",
     "output_type": "stream",
     "text": [
      "Processing PDFs:   0%|          | 0/9 [00:00<?, ?it/s]"
     ]
    },
    {
     "name": "stdout",
     "output_type": "stream",
     "text": [
      "Processing 중소벤처기업부_혁신창업사업화자금(융자)...\n"
     ]
    },
    {
     "name": "stderr",
     "output_type": "stream",
     "text": [
      "/home/a2024712006/miniconda3/envs/dacon/lib/python3.11/site-packages/langchain_core/_api/deprecation.py:139: LangChainDeprecationWarning: The class `HuggingFaceEmbeddings` was deprecated in LangChain 0.2.2 and will be removed in 0.3.0. An updated version of the class exists in the langchain-huggingface package and should be used instead. To use it run `pip install -U langchain-huggingface` and import as `from langchain_huggingface import HuggingFaceEmbeddings`.\n",
      "  warn_deprecated(\n",
      "Processing PDFs:  11%|█         | 1/9 [00:14<01:53, 14.23s/it]"
     ]
    },
    {
     "name": "stdout",
     "output_type": "stream",
     "text": [
      "Processing 보건복지부_부모급여(영아수당) 지원...\n"
     ]
    },
    {
     "name": "stderr",
     "output_type": "stream",
     "text": [
      "Processing PDFs:  22%|██▏       | 2/9 [00:25<01:28, 12.59s/it]"
     ]
    },
    {
     "name": "stdout",
     "output_type": "stream",
     "text": [
      "Processing 보건복지부_노인장기요양보험 사업운영...\n"
     ]
    },
    {
     "name": "stderr",
     "output_type": "stream",
     "text": [
      "Processing PDFs:  33%|███▎      | 3/9 [00:40<01:21, 13.52s/it]"
     ]
    },
    {
     "name": "stdout",
     "output_type": "stream",
     "text": [
      "Processing 산업통상자원부_에너지바우처...\n"
     ]
    },
    {
     "name": "stderr",
     "output_type": "stream",
     "text": [
      "Processing PDFs:  44%|████▍     | 4/9 [01:12<01:44, 20.93s/it]"
     ]
    },
    {
     "name": "stdout",
     "output_type": "stream",
     "text": [
      "Processing 국토교통부_행복주택출자...\n"
     ]
    },
    {
     "name": "stderr",
     "output_type": "stream",
     "text": [
      "Processing PDFs:  56%|█████▌    | 5/9 [01:25<01:12, 18.07s/it]"
     ]
    },
    {
     "name": "stdout",
     "output_type": "stream",
     "text": [
      "Processing 「FIS 이슈 & 포커스」 22-4호 《중앙-지방 간 재정조정제도》...\n"
     ]
    },
    {
     "name": "stderr",
     "output_type": "stream",
     "text": [
      "Processing PDFs:  67%|██████▋   | 6/9 [02:11<01:22, 27.53s/it]"
     ]
    },
    {
     "name": "stdout",
     "output_type": "stream",
     "text": [
      "Processing 「FIS 이슈 & 포커스」 23-2호 《핵심재정사업 성과관리》...\n"
     ]
    },
    {
     "name": "stderr",
     "output_type": "stream",
     "text": [
      "Processing PDFs:  78%|███████▊  | 7/9 [03:06<01:13, 36.67s/it]"
     ]
    },
    {
     "name": "stdout",
     "output_type": "stream",
     "text": [
      "Processing 「FIS 이슈&포커스」 22-2호 《재정성과관리제도》...\n"
     ]
    },
    {
     "name": "stderr",
     "output_type": "stream",
     "text": [
      "Processing PDFs:  89%|████████▉ | 8/9 [03:53<00:39, 39.66s/it]"
     ]
    },
    {
     "name": "stdout",
     "output_type": "stream",
     "text": [
      "Processing 「FIS 이슈 & 포커스」(신규) 통권 제1호 《우발부채》...\n"
     ]
    },
    {
     "name": "stderr",
     "output_type": "stream",
     "text": [
      "Processing PDFs: 100%|██████████| 9/9 [04:35<00:00, 30.63s/it]\n"
     ]
    }
   ],
   "source": [
    "base_directory = '/home/a2024712006/dacon' # Your Base Directory\n",
    "df = pd.read_csv('/home/a2024712006/dacon/test.csv')\n",
    "pdf_databases = process_pdfs_from_dataframe(df, base_directory)"
   ]
  },
  {
   "cell_type": "code",
   "execution_count": null,
   "metadata": {},
   "outputs": [],
   "source": [
    "import transformers\n",
    "import torch\n",
    "\n",
    "\n",
    "model_id = \"rtzr/ko-gemma-2-9b-it\" \n",
    "\n",
    "pipeline = transformers.pipeline(\n",
    "    \"text-generation\",\n",
    "    model=model_id,\n",
    "    model_kwargs={\"torch_dtype\": torch.bfloat16},\n",
    "    device_map=\"auto\",\n",
    ")\n",
    "\n",
    "pipeline.model.eval()"
   ]
  },
  {
   "cell_type": "code",
   "execution_count": 10,
   "metadata": {},
   "outputs": [],
   "source": [
    "# return: final_context, full_text\n",
    "# final_context: 최종 llm에게 넘길 context\n",
    "# full_doc_text: reranking하기 전 context\n",
    "def llm_reranker(documents, question):\n",
    "    context = []\n",
    "    full_doc_text = \"\"\n",
    "    for i in range(len(documents)):\n",
    "        if i > 4:\n",
    "            break\n",
    "        context.append(documents[i].page_content)\n",
    "        if i != 0:\n",
    "            text = f\"문서{i}:\" + \"\\n\\n\" + documents[i].page_content\n",
    "            full_doc_text += f\"\\n\\n{text}\\n===\"\n",
    "\n",
    "    prompt = f\"\"\"\n",
    "    정보: \n",
    "        {full_doc_text}\n",
    "\n",
    "    위 정보에서 아래 질문에 대한 답을 유추할 수 있고 가장 유사한 문서를 2개 골라서 문서의 번호만 출력해줘\n",
    "\n",
    "    질문: {question}\n",
    "\n",
    "    \"\"\"\n",
    "    messages = [\n",
    "    {\"role\": \"user\", \"content\": f\"{prompt}\"}\n",
    "    ]\n",
    "\n",
    "    prompt = pipeline.tokenizer.apply_chat_template(\n",
    "        messages, \n",
    "        tokenize=False, \n",
    "        add_generation_prompt=True\n",
    "    )\n",
    "\n",
    "    terminators = [\n",
    "        pipeline.tokenizer.eos_token_id,\n",
    "        pipeline.tokenizer.convert_tokens_to_ids(\"<end_of_turn>\")\n",
    "    ]\n",
    "\n",
    "    outputs = pipeline(\n",
    "        prompt,\n",
    "        max_new_tokens=2048,\n",
    "        eos_token_id=terminators,\n",
    "        do_sample=True,\n",
    "        temperature=0.6,\n",
    "        top_p=0.9,\n",
    "    )\n",
    "    response = outputs[0][\"generated_text\"][len(prompt):]\n",
    "    print(f\"Answer: 0, {response}\\n\")\n",
    "    \n",
    "    reranked_idx_list = [0]\n",
    "    for char in response:\n",
    "        if char.isdigit() and char != \"0\":\n",
    "            idx = int(char)\n",
    "            if idx not in reranked_idx_list and idx < 5:\n",
    "                reranked_idx_list.append(idx)\n",
    "    \n",
    "    final_context = \"\"\n",
    "    for idx in reranked_idx_list:\n",
    "        final_context += f\"\\n{context[idx]}\\n\"\n",
    "    return final_context, full_doc_text\n",
    "\n",
    "# return: response\n",
    "def llm_answer(context, question):\n",
    "    prompt = f\"\"\"\n",
    "    다음 정보를 바탕으로 질문에 답하세요:\n",
    "    {context}\n",
    "\n",
    "    질문: {question}\n",
    "    \n",
    "    주어진 질문에만 답변하세요. 문장으로 답변해주세요. 답변할 때 질문의 주어를 써주세요.\n",
    "    답변:\n",
    "    \"\"\"\n",
    "    messages = [\n",
    "    {\"role\": \"user\", \"content\": f\"{prompt}\"}\n",
    "    ]\n",
    "\n",
    "    prompt = pipeline.tokenizer.apply_chat_template(\n",
    "        messages, \n",
    "        tokenize=False, \n",
    "        add_generation_prompt=True\n",
    "    )\n",
    "\n",
    "    terminators = [\n",
    "        pipeline.tokenizer.eos_token_id,\n",
    "        pipeline.tokenizer.convert_tokens_to_ids(\"<end_of_turn>\")\n",
    "    ]\n",
    "\n",
    "    outputs = pipeline(\n",
    "        prompt,\n",
    "        max_new_tokens=2048,\n",
    "        eos_token_id=terminators,\n",
    "        do_sample=True,\n",
    "        temperature=0.6,\n",
    "        top_p=0.9,\n",
    "    )\n",
    "    response = outputs[0][\"generated_text\"][len(prompt):]\n",
    "    return response"
   ]
  },
  {
   "cell_type": "code",
   "execution_count": 11,
   "metadata": {},
   "outputs": [
    {
     "name": "stderr",
     "output_type": "stream",
     "text": [
      "Answering Questions:   0%|          | 0/98 [00:00<?, ?it/s]"
     ]
    },
    {
     "name": "stdout",
     "output_type": "stream",
     "text": [
      "Answer: 0, 1, 3 \n",
      "\n",
      "\n",
      "Question: 2022년 혁신창업사업화자금(융자)의 예산은 얼마인가요?\n"
     ]
    },
    {
     "name": "stderr",
     "output_type": "stream",
     "text": [
      "Answering Questions:   1%|          | 1/98 [00:04<07:25,  4.59s/it]"
     ]
    },
    {
     "name": "stdout",
     "output_type": "stream",
     "text": [
      "Answer: 2022년 혁신창업사업화자금(융자)의 예산은 2,300 백만원 입니다.  \n",
      "\n",
      "\n",
      "Answer: 0, 1, 2 \n",
      "\n",
      "\n",
      "Question: 중소벤처기업부의 혁신창업사업화자금(융자) 사업목적은 무엇인가요?\n"
     ]
    },
    {
     "name": "stderr",
     "output_type": "stream",
     "text": [
      "Answering Questions:   2%|▏         | 2/98 [00:15<12:57,  8.09s/it]"
     ]
    },
    {
     "name": "stdout",
     "output_type": "stream",
     "text": [
      "Answer: 중소벤처기업부의 혁신창업사업화자금(융자) 사업목적은 기술력과 사업성이 우수하고 미래 성장가능성이 높은 중소벤처기업의 창업을 활성화하고 고용창출을 도모하며, 중소기업이 보유한 우수 기술의 사장을 방지하고 개발기술의 제품화·사업화를 촉진하여 기술기반 중소기업을 육성하는 것입니다.  \n",
      "\n",
      "\n",
      "Answer: 0, 2, 3  \n",
      "\n",
      "\n",
      "Question: 중소벤처기업부의 혁신창업사업화자금(융자) 사업근거는 어떤 법률에 근거하고 있나요?\n"
     ]
    },
    {
     "name": "stderr",
     "output_type": "stream",
     "text": [
      "Answering Questions:   3%|▎         | 3/98 [00:21<11:17,  7.13s/it]"
     ]
    },
    {
     "name": "stdout",
     "output_type": "stream",
     "text": [
      "Answer: 중소벤처기업부의 혁신창업사업화자금(융자) 사업은 중소기업진흥에 관한 법률 제66조, 제66조, 제67조, 제74조에 근거하고 있습니다.\n",
      "\n",
      "Answer: 0, 2, 4 \n",
      "\n",
      "\n",
      "Question: 2010년에 신규 지원된 혁신창업사업화자금은 무엇인가요?\n"
     ]
    },
    {
     "name": "stderr",
     "output_type": "stream",
     "text": [
      "Answering Questions:   4%|▍         | 4/98 [00:25<09:40,  6.18s/it]"
     ]
    },
    {
     "name": "stdout",
     "output_type": "stream",
     "text": [
      "Answer: 2010년에 신규 지원된 혁신창업사업화자금은 재창업자금(실패 경영인에 대한 재기지원)입니다.\n",
      "\n",
      "Answer: 0, 1, 2 \n",
      "\n",
      "\n",
      "Question: 혁신창업사업화자금 중 2020년에 신규 지원된 자금은 무엇인가요?\n"
     ]
    },
    {
     "name": "stderr",
     "output_type": "stream",
     "text": [
      "Answering Questions:   5%|▌         | 5/98 [00:30<08:55,  5.76s/it]"
     ]
    },
    {
     "name": "stdout",
     "output_type": "stream",
     "text": [
      "Answer: 혁신창업사업화자금 중 2020년에 신규 지원된 자금은 미래기술육성자금과 고성장촉진자금 입니다.\n",
      "\n",
      "Answer: 0, 1, 2  \n",
      "\n",
      "\n",
      "Question: 재창업자금이 재도약지원자금으로 이관된 연도는 언제인가요?\n"
     ]
    },
    {
     "name": "stderr",
     "output_type": "stream",
     "text": [
      "Answering Questions:   6%|▌         | 6/98 [00:34<07:54,  5.16s/it]"
     ]
    },
    {
     "name": "stdout",
     "output_type": "stream",
     "text": [
      "Answer: 재창업자금이 재도약지원자금으로 이관된 연도는 2015년입니다.\n",
      "\n",
      "Answer: 0, 1, 3  \n",
      "\n",
      "\n",
      "Question: 창업기반지원과 신청 대상이 중복인 자금이 어떤 것이며, 이 자금이 폐지된 연도는 언제인가요?\n"
     ]
    },
    {
     "name": "stderr",
     "output_type": "stream",
     "text": [
      "Answering Questions:   7%|▋         | 7/98 [00:41<08:25,  5.55s/it]"
     ]
    },
    {
     "name": "stdout",
     "output_type": "stream",
     "text": [
      "Answer: 주어진 정보에 따르면 창업기반지원과 신청 대상이 중복인 자금은 '일자리창출촉진자금'이며, 이 자금이 폐지된 연도는 2023년입니다.  \n",
      "\n",
      "\n",
      "Answer: 0, 1, 2 \n",
      "\n",
      "\n",
      "Question: 혁신창업사업화자금(융자) 사업을 시행하는 주체는 누구인가요?\n"
     ]
    },
    {
     "name": "stderr",
     "output_type": "stream",
     "text": [
      "Answering Questions:   8%|▊         | 8/98 [00:45<07:43,  5.15s/it]"
     ]
    },
    {
     "name": "stdout",
     "output_type": "stream",
     "text": [
      "Answer: 혁신창업사업화자금(융자) 사업을 시행하는 주체는 중소벤처기업진흥공단입니다.\n",
      "\n",
      "Answer: 0, 1, 2 \n",
      "\n",
      "\n",
      "Question: 혁신창업사업화자금(융자) 사업 집행절차는 어떻게 되나요?\n"
     ]
    },
    {
     "name": "stderr",
     "output_type": "stream",
     "text": [
      "Answering Questions:   9%|▉         | 9/98 [00:55<09:46,  6.59s/it]"
     ]
    },
    {
     "name": "stdout",
     "output_type": "stream",
     "text": [
      "Answer: 혁신창업사업화자금(융자) 사업 집행절차는 사업계획수립/공고 후 중소기업이 사전상담 및 신청‧접수를 거쳐 중진공으로부터 서류 및 현장실사를 받습니다. 이후 중진공과 은행의 융자 실행이 이루어지며, 중진공은 지원결정통보를 하고 평가 및 승인을 통해 사업이 진행됩니다.  \n",
      "\n",
      "\n",
      "Answer: 0, 1, 4  \n",
      "\n",
      "\n",
      "Question: 부모급여 지원 사업의 목적은 무엇인가요?\n"
     ]
    },
    {
     "name": "stderr",
     "output_type": "stream",
     "text": [
      "Answering Questions:  10%|█         | 10/98 [01:03<10:20,  7.05s/it]"
     ]
    },
    {
     "name": "stdout",
     "output_type": "stream",
     "text": [
      "Answer: 부모급여 지원 사업의 목적은 출산 및 양육으로 손실되는 소득을 보전하고, 주 양육자의 직접 돌봄이 중요한 아동발달의 특성에 따라 영아기 돌봄을 두텁게 지원하기 위해 부모급여 지급을 통해 영아수당을 부모급여로 변경 및 확대하는 것입니다.  \n",
      "\n",
      "\n",
      "Answer: 0, 1, 2 \n",
      "\n",
      "\n",
      "Question: 부모급여(영아수당)의 2024년 확정된 예산은 몇백만원인가요?\n"
     ]
    },
    {
     "name": "stderr",
     "output_type": "stream",
     "text": [
      "Answering Questions:  11%|█         | 11/98 [01:08<09:28,  6.53s/it]"
     ]
    },
    {
     "name": "stdout",
     "output_type": "stream",
     "text": [
      "Answer: 주어진 정보에 따르면, 부모급여(영아수당)의 2024년 확정된 예산은 2,888,694백만원 입니다.  \n",
      "\n",
      "\n",
      "Answer: 0, 1, 3  \n",
      "\n",
      "\n",
      "Question: 부모급여 지원 사업은 어떤 법령상 근거를 갖고 추진되고 있나요?\n"
     ]
    },
    {
     "name": "stderr",
     "output_type": "stream",
     "text": [
      "Answering Questions:  12%|█▏        | 12/98 [01:12<08:21,  5.84s/it]"
     ]
    },
    {
     "name": "stdout",
     "output_type": "stream",
     "text": [
      "Answer: 부모급여 지원 사업은 아동수당법 제4조제5항을 법령상 근거로 추진되고 있습니다.  \n",
      "\n",
      "\n",
      "Answer: 0, 1, 2 \n",
      "\n",
      "\n",
      "Question: 영아수당 도입에 대한 추진경위는 어떻게 되나요?\n"
     ]
    },
    {
     "name": "stderr",
     "output_type": "stream",
     "text": [
      "Answering Questions:  13%|█▎        | 13/98 [01:30<13:05,  9.24s/it]"
     ]
    },
    {
     "name": "stdout",
     "output_type": "stream",
     "text": [
      "Answer: 영아수당 도입에 대한 추진경위는 2020년 12월에 제4차 저출산‧고령사회 기본계획 5대 핵심과제로 영아수당 도입이 결정되고, 2021년 8월 예비타당성 조사가 통과, 12월에는 근거법이 마련되었습니다. 이후 2022년 1월부터 영아수당 지원사업이 시행되었고, 2022년 5월에는 '부모급여 도입'이 대통령 공약사항 및 국정과제로 포함되었습니다.  2023년 1월부터 부모급여 지원사업이 시행되며, 같은 해 5월에는 부모급여 지급 근거를 규정한 아동수당법이 개정되었습니다.  \n",
      "\n",
      "\n",
      "\n",
      "\n",
      "Answer: 0, 1, 2  \n",
      "\n",
      "\n",
      "Question: 부모급여 지원사업은 언제부터 시행되었나요?\n"
     ]
    },
    {
     "name": "stderr",
     "output_type": "stream",
     "text": [
      "Answering Questions:  14%|█▍        | 14/98 [01:33<10:25,  7.45s/it]"
     ]
    },
    {
     "name": "stdout",
     "output_type": "stream",
     "text": [
      "Answer: 부모급여 지원사업은 2023년 1월부터 시행되었습니다.\n",
      "\n",
      "Answer: 0, 1, 3  \n",
      "\n",
      "\n",
      "Question: 보건복지부의 부모급여(영아수당) 지원 사업시행방법은 무엇이며, 사업 수혜자는 누구인가?\n"
     ]
    },
    {
     "name": "stderr",
     "output_type": "stream",
     "text": [
      "Answering Questions:  15%|█▌        | 15/98 [01:38<09:21,  6.77s/it]"
     ]
    },
    {
     "name": "stdout",
     "output_type": "stream",
     "text": [
      "Answer: 보건복지부의 부모급여(영아수당) 지원 사업시행방법은 지자체 보조이며, 사업 수혜자는 만 0~1세 아동입니다.\n",
      "\n",
      "Answer: 0, 1, 0 \n",
      "\n",
      "\n",
      "\n",
      "\n",
      "Question: 노인장기요양보험 사업 운영에 대한 목적은 무엇인가요?\n"
     ]
    },
    {
     "name": "stderr",
     "output_type": "stream",
     "text": [
      "Answering Questions:  16%|█▋        | 16/98 [01:48<10:46,  7.88s/it]"
     ]
    },
    {
     "name": "stdout",
     "output_type": "stream",
     "text": [
      "Answer: 노인장기요양보험 사업 운영의 목적은 고령이나 노인성 질병으로 일상생활을 혼자 수행하기 어려운 노인 등에게 신체 또는 가사 활동 등을 제공하여, 효율적인 정책 추진으로 노후의 건강 증진 및 생활 안정을 도모하고 가족의 부담을 완화하여 국민 삶의 질을 향상시키는 데 있습니다.  \n",
      "\n",
      "\n",
      "Answer: 0, 1, 2 \n",
      "\n",
      "\n",
      "Question: 노인장기요양보험 운영지원에 대한 사업 내용을 설명해줘.\n"
     ]
    },
    {
     "name": "stderr",
     "output_type": "stream",
     "text": [
      "Answering Questions:  17%|█▋        | 17/98 [01:57<10:56,  8.11s/it]"
     ]
    },
    {
     "name": "stdout",
     "output_type": "stream",
     "text": [
      "Answer: 노인장기요양보험 운영지원 사업은 「노인장기요양보험법」제58조에 따라 국가가 국민건강보험공단에 장기요양보험료 예상수입액의 20%에 해당하는 법정지원금을 제공하는 사업입니다.  \n",
      "\n",
      "\n",
      "Answer: 0, 1, 4 \n",
      "\n",
      "\n",
      "Question: 국고지원을 받는 기타 의료급여수급권자는 누구인가요?\n"
     ]
    },
    {
     "name": "stderr",
     "output_type": "stream",
     "text": [
      "Answering Questions:  18%|█▊        | 18/98 [02:04<10:15,  7.69s/it]"
     ]
    },
    {
     "name": "stdout",
     "output_type": "stream",
     "text": [
      "Answer: 국고지원을 받는 기타 의료급여수급권자는 이재민, 의사상자, 국가유공자, 입양아동, 국가무형문화재보유자, 북한이탈주민 등입니다.  \n",
      "\n",
      "\n",
      "Answer: 0, 1, 3 \n",
      "\n",
      "\n",
      "\n",
      "\n",
      "Question: 장기요양보험가입자 및 피부양자의 자격취득과 관련하여 어떤 법률을 준용해야 하는가?\n"
     ]
    },
    {
     "name": "stderr",
     "output_type": "stream",
     "text": [
      "Answering Questions:  19%|█▉        | 19/98 [02:13<10:49,  8.22s/it]"
     ]
    },
    {
     "name": "stdout",
     "output_type": "stream",
     "text": [
      "Answer: 장기요양보험가입자 및 피부양자의 자격취득과 관련하여  '국민건강보험법' 제5조, 제6조, 제8조부터 제11조까지, 제69조제1항부터 제3항까지, 제76조부터 제86조까지 및 제110조를 준용해야 합니다.  \n",
      "\n",
      "\n",
      "Answer: 0, 1, 2 \n",
      "\n",
      "\n",
      "Question: 노인장기요양보험법이 언제 제정되고 공포되었나?\n"
     ]
    },
    {
     "name": "stderr",
     "output_type": "stream",
     "text": [
      "Answering Questions:  20%|██        | 20/98 [02:19<09:31,  7.32s/it]"
     ]
    },
    {
     "name": "stdout",
     "output_type": "stream",
     "text": [
      "Answer: 노인장기요양보험법은 2007년 4월에 제정되고 공포되었습니다.  \n",
      "\n",
      "\n",
      "Answer: 0, 1, 2 \n",
      "\n",
      "\n",
      "Question: 장기요양인정점수 완화가 언제 이루어졌으며, 어떤 변화가 있었나?\n"
     ]
    },
    {
     "name": "stderr",
     "output_type": "stream",
     "text": [
      "Answering Questions:  21%|██▏       | 21/98 [02:29<10:41,  8.34s/it]"
     ]
    },
    {
     "name": "stdout",
     "output_type": "stream",
     "text": [
      "Answer: 장기요양인정점수 완화는 2012년 7월과 2013년 7월에 이루어졌습니다. 2012년 7월에는 3등급 인정점수가 기존 55~75점에서 53~75점으로 완화되었고, 2013년 7월에는 51~75점으로 다시 완화되었습니다.  \n",
      "\n",
      "\n",
      "Answer: 0, 1, 2  \n",
      "\n",
      "\n",
      "Question: 장기요양기관 지정갱신제의 법적 근거가 언제 마련되었는가?\n"
     ]
    },
    {
     "name": "stderr",
     "output_type": "stream",
     "text": [
      "Answering Questions:  22%|██▏       | 22/98 [02:35<09:25,  7.45s/it]"
     ]
    },
    {
     "name": "stdout",
     "output_type": "stream",
     "text": [
      "Answer: 장기요양기관 지정갱신제의 법적 근거는 2018년 12월에 마련되었습니다.\n",
      "\n",
      "Answer: 0, 2, 1 \n",
      "\n",
      "\n",
      "\n",
      "\n",
      "Question: 22.10월에 요양보호사 1명당 시설수급자 인력배치기준이 개선된 내용은 무엇인가?\n"
     ]
    },
    {
     "name": "stderr",
     "output_type": "stream",
     "text": [
      "Answering Questions:  23%|██▎       | 23/98 [02:41<09:00,  7.20s/it]"
     ]
    },
    {
     "name": "stdout",
     "output_type": "stream",
     "text": [
      "Answer: 2022년 10월에 요양보호사 1명당 시설수급자 인력배치 기준은 2.5명에서 2.3명으로 개선되었습니다.  \n",
      "\n",
      "\n",
      "Answer: 0, 1, 2  \n",
      "\n",
      "\n",
      "Question: 에너지 바우처 제도의 주요 내용은 무엇인가요?\n"
     ]
    },
    {
     "name": "stderr",
     "output_type": "stream",
     "text": [
      "Answering Questions:  24%|██▍       | 24/98 [02:49<09:03,  7.34s/it]"
     ]
    },
    {
     "name": "stdout",
     "output_type": "stream",
     "text": [
      "Answer: 에너지 바우처 제도는 경제적 어려움으로 에너지 이용에 어려움을 겪는 에너지 소외 계층에게 전기, 가스, 지역난방 등 에너지 이용에 필요한 비용을 지원하는 제도입니다.  \n",
      "\n",
      "\n",
      "Answer: 0, 1, 2  \n",
      "\n",
      "\n",
      "Question: 에너지바우처 사업의 주요 수혜자는 누구인가요?\n"
     ]
    },
    {
     "name": "stderr",
     "output_type": "stream",
     "text": [
      "Answering Questions:  26%|██▌       | 25/98 [03:03<11:18,  9.30s/it]"
     ]
    },
    {
     "name": "stdout",
     "output_type": "stream",
     "text": [
      "Answer: 에너지바우처 사업의 주요 수혜자는 기초생활보장급여 수급세대 중 노인, 장애인, 영유아, 임산부, 중증·희귀·중증난치질환자, 한부모, 소년소녀가정을 포함한 세대, 연탄을 사용하는 기초생활수급자, 차상위계층, 기타 소외계층, 생계·의료급여(중위소득 40% 이하) 수급세대 중 한부모·소년소녀가정 세대,입니다. \n",
      "\n",
      "\n",
      "Answer: 0, 2, 3 \n",
      "\n",
      "\n",
      "Question: 2024년 에너지바우처 사업의 사업시행주체는 무엇인가요?\n"
     ]
    },
    {
     "name": "stderr",
     "output_type": "stream",
     "text": [
      "Answering Questions:  27%|██▋       | 26/98 [03:09<10:00,  8.34s/it]"
     ]
    },
    {
     "name": "stdout",
     "output_type": "stream",
     "text": [
      "Answer: 2024년 에너지바우처 사업의 사업시행주체는 한국에너지공단과 한국광해광업공단입니다.  \n",
      "\n",
      "\n",
      "Answer: 0, 2, 3  \n",
      "\n",
      "\n",
      "Question: 하절기바우처와 동절기바우처의 2024년 예산 규모는 각각 얼마인가요?\n"
     ]
    },
    {
     "name": "stderr",
     "output_type": "stream",
     "text": [
      "Answering Questions:  28%|██▊       | 27/98 [03:17<09:54,  8.38s/it]"
     ]
    },
    {
     "name": "stdout",
     "output_type": "stream",
     "text": [
      "Answer: 2024년 하절기바우처 예산 규모는 60,950백만원이고, 동절기바우처 예산 규모는 600,521백만원입니다.  \n",
      "\n",
      "\n",
      "Answer: 0, 2, 3 \n",
      "\n",
      "\n",
      "\n",
      "\n",
      "Question: 2023년 에너지바우처 사업 예산에서 사업운영비 중 에너지복지 홍보에 얼마가 할당되었나요?\n"
     ]
    },
    {
     "name": "stderr",
     "output_type": "stream",
     "text": [
      "Answering Questions:  29%|██▊       | 28/98 [03:25<09:25,  8.08s/it]"
     ]
    },
    {
     "name": "stdout",
     "output_type": "stream",
     "text": [
      "Answer: 주어진 정보에는 사업운영비 중 에너지복지 홍보에 얼마가 할당되었는지에 대한 구체적인 내용은 나와있지 않습니다.  \n",
      "\n",
      "\n",
      "Answer: 0, 2, 3 \n",
      "\n",
      "\n",
      "\n",
      "\n",
      "Question: 2023년 에너지바우처 사업 예산에서 사업운영비 중 시스템 고도화에 얼마가 할당되었나요?\n"
     ]
    },
    {
     "name": "stderr",
     "output_type": "stream",
     "text": [
      "Answering Questions:  30%|██▉       | 29/98 [03:32<08:59,  7.81s/it]"
     ]
    },
    {
     "name": "stdout",
     "output_type": "stream",
     "text": [
      "Answer: 2023년 에너지바우처 사업 예산에서 사업운영비 중 시스템 고도화에는 705백만원이 할당되었습니다.\n",
      "\n",
      "Answer: 0, 2, 4  \n",
      "\n",
      "\n",
      "Question: 2023년 에너지바우처 사업 예산에서 콜센터 운영에 얼마가 할당되었나요?\n"
     ]
    },
    {
     "name": "stderr",
     "output_type": "stream",
     "text": [
      "Answering Questions:  31%|███       | 30/98 [03:39<08:37,  7.61s/it]"
     ]
    },
    {
     "name": "stdout",
     "output_type": "stream",
     "text": [
      "Answer: 2023년 에너지바우처 사업 예산에서 콜센터 운영에는 280백만원이 할당되었습니다.\n",
      "\n",
      "Answer: 0, 2, 1  \n",
      "\n",
      "\n",
      "Question: 2023년 에너지바우처 사업 예산에서 패널조사에 얼마가 할당되었나요?\n"
     ]
    },
    {
     "name": "stderr",
     "output_type": "stream",
     "text": [
      "Answering Questions:  32%|███▏      | 31/98 [03:46<08:21,  7.49s/it]"
     ]
    },
    {
     "name": "stdout",
     "output_type": "stream",
     "text": [
      "Answer: 2023년 에너지바우처 사업 예산에서 패널조사에 1억 3170만원이 할당되었습니다.\n",
      "\n",
      "Answer: 0, 1, 4 \n",
      "\n",
      "\n",
      "\n",
      "\n",
      "Question: 2023년 에너지바우처 사업 예산에서 에너지바우처 전달체계 구축에 얼마가 할당되었나요?\n"
     ]
    },
    {
     "name": "stderr",
     "output_type": "stream",
     "text": [
      "Answering Questions:  33%|███▎      | 32/98 [03:54<08:18,  7.55s/it]"
     ]
    },
    {
     "name": "stdout",
     "output_type": "stream",
     "text": [
      "Answer: 2023년 에너지바우처 사업 예산에서 에너지바우처 전달체계 구축에 34.6백만원이 할당되었습니다.\n",
      "\n",
      "Answer: 0, 1, 3 \n",
      "\n",
      "\n",
      "\n",
      "\n",
      "Question: 2023년 에너지바우처 사업 예산에서 주택관리공단 운영지원에 얼마가 할당되었나요?\n"
     ]
    },
    {
     "name": "stderr",
     "output_type": "stream",
     "text": [
      "Answering Questions:  34%|███▎      | 33/98 [04:01<08:07,  7.50s/it]"
     ]
    },
    {
     "name": "stdout",
     "output_type": "stream",
     "text": [
      "Answer: 2023년 에너지바우처 사업 예산에서 주택관리공단 운영지원에 50백만원이 할당되었습니다.\n",
      "\n",
      "Answer: 0, 2, 2 \n",
      "\n",
      "\n",
      "Question: 에너지바우처 사업의 향후 기대효과는 무엇인가요?\n"
     ]
    },
    {
     "name": "stderr",
     "output_type": "stream",
     "text": [
      "Answering Questions:  35%|███▍      | 34/98 [04:08<07:41,  7.20s/it]"
     ]
    },
    {
     "name": "stdout",
     "output_type": "stream",
     "text": [
      "Answer: 에너지바우처 사업의 향후 기대효과는 저소득층의 적정수준 에너지 접근성이 높아지고, 취약계층의 에너지 비용 부담 경감입니다. \n",
      "\n",
      "\n",
      "Answer: 0, 1, 4 \n",
      "\n",
      "\n",
      "Question: 에너지바우처 사업에 대한 예비타당성조사를 어떤 조사기관이 수행했나요?\n"
     ]
    },
    {
     "name": "stderr",
     "output_type": "stream",
     "text": [
      "Answering Questions:  36%|███▌      | 35/98 [04:13<06:59,  6.65s/it]"
     ]
    },
    {
     "name": "stdout",
     "output_type": "stream",
     "text": [
      "Answer: 에너지바우처 사업에 대한 예비타당성조사는 KDI(한국개발연구원 공공투자관리센터)가 수행했습니다.  \n",
      "\n",
      "\n",
      "Answer: 0, 1, 0 \n",
      "\n",
      "\n",
      "\n",
      "\n",
      "Question: 21년 국정감사에서 에너지 바우처 사업에 대한 주요 지적사항은 무엇이었나요?\n"
     ]
    },
    {
     "name": "stderr",
     "output_type": "stream",
     "text": [
      "Answering Questions:  37%|███▋      | 36/98 [04:22<07:27,  7.21s/it]"
     ]
    },
    {
     "name": "stdout",
     "output_type": "stream",
     "text": [
      "Answer: 21년 국정감사에서 에너지 바우처 사업에 대한 주요 지적사항은 저소득층의 폭염 피해 최소화를 위해 동절기 에너지바우처 일부를 하절기에 사용할 수 있도록 제도 개선할 것을 권고했다는 것입니다.  \n",
      "\n",
      "\n",
      "Answer: 0, 1, 2 \n",
      "\n",
      "\n",
      "Question: 21년 에너지바우처 사업에 대한 결산 지적사항은 무엇이었나요?\n"
     ]
    },
    {
     "name": "stderr",
     "output_type": "stream",
     "text": [
      "Answering Questions:  38%|███▊      | 37/98 [04:31<07:49,  7.70s/it]"
     ]
    },
    {
     "name": "stdout",
     "output_type": "stream",
     "text": [
      "Answer: 21년 에너지바우처 사업에 대한 결산 지적사항은 수급자 변경 등으로 예산부족이 발생하지 않도록 급여 선정기준 등의 변경계획에 대하여 보건복지부·지자체와 면밀히 소통하여 예산을 편성하고 사업을 추진해야 한다는 것이었습니다.  \n",
      "\n",
      "\n",
      "Answer: 0, 1, 4  \n",
      "\n",
      "\n",
      "Question: 에너지 바우처 사업의 향후 추진방향 중 '취약계층의 에너지 비용 부담 완화'를 위한 계획은 무엇이었나요?\n"
     ]
    },
    {
     "name": "stderr",
     "output_type": "stream",
     "text": [
      "Answering Questions:  39%|███▉      | 38/98 [04:37<07:14,  7.23s/it]"
     ]
    },
    {
     "name": "stdout",
     "output_type": "stream",
     "text": [
      "Answer: 에너지 바우처 사업의 향후 추진방향 중 취약계층의 에너지 비용 부담 완화를 위해 지속적 지원단가 현실화를 추진하는 계획이 있었습니다.\n",
      "\n",
      "Answer: 0, 2, 3 \n",
      "\n",
      "\n",
      "\n",
      "\n",
      "Question: 행복주택출자 사업은 어떤 근거로 추진되고 있는가?\n"
     ]
    },
    {
     "name": "stderr",
     "output_type": "stream",
     "text": [
      "Answering Questions:  40%|███▉      | 39/98 [04:42<06:30,  6.63s/it]"
     ]
    },
    {
     "name": "stdout",
     "output_type": "stream",
     "text": [
      "Answer: 행복주택출자 사업은 주택도시기금법 제9조제1항가목 및 공공주택특별법 제2조1호가목에 근거하여 추진되고 있습니다.\n",
      "\n",
      "Answer: 0, 1, 0  \n",
      "\n",
      "\n",
      "Question: 행복주택출자 사업은 어떤 목적으로 시행되는가?\n"
     ]
    },
    {
     "name": "stderr",
     "output_type": "stream",
     "text": [
      "Answering Questions:  41%|████      | 40/98 [04:46<05:43,  5.91s/it]"
     ]
    },
    {
     "name": "stdout",
     "output_type": "stream",
     "text": [
      "Answer: 행복주택출자 사업은 국민의 행복주거 실현을 위한 보편적 주거복지 정책의 일환으로 시행된다.  \n",
      "\n",
      "\n",
      "Answer: 0, 1, 문서0  \n",
      "\n",
      "\n",
      "Question: 행복주택출자 사업의 주요 수혜자는 누구인가?\n"
     ]
    },
    {
     "name": "stderr",
     "output_type": "stream",
     "text": [
      "Answering Questions:  42%|████▏     | 41/98 [04:52<05:27,  5.74s/it]"
     ]
    },
    {
     "name": "stdout",
     "output_type": "stream",
     "text": [
      "Answer: 행복주택출자 사업의 주요 수혜자는 대학생, 사회초년생, 신혼부부 등 젊은층(80%), 고령자 및 주거취약계층(20%)이다.  \n",
      "\n",
      "\n",
      "Answer: 0, 2, 4 \n",
      "\n",
      "\n",
      "Question: 행복주택출자 사업의 사업비 추이는 어떠한가?\n"
     ]
    },
    {
     "name": "stderr",
     "output_type": "stream",
     "text": [
      "Answering Questions:  43%|████▎     | 42/98 [05:01<06:19,  6.78s/it]"
     ]
    },
    {
     "name": "stdout",
     "output_type": "stream",
     "text": [
      "Answer: 행복주택출자 사업의 사업비는 2020년 1,267,123를 기록한 후 2021년 1,105,291, 2022년 775,293, 2023년 684,607, 2024년 528,783으로 감소하는 추이를 보입니다.\n",
      "\n",
      "Answer: 0, 1, 4 \n",
      "\n",
      "\n",
      "Question: 행복주택출자 사업의 사업시행주체는 누구인가?\n"
     ]
    },
    {
     "name": "stderr",
     "output_type": "stream",
     "text": [
      "Answering Questions:  44%|████▍     | 43/98 [05:04<05:21,  5.85s/it]"
     ]
    },
    {
     "name": "stdout",
     "output_type": "stream",
     "text": [
      "Answer: 사업시행주체는 한국토지주택공사(LH)와 지자체(지방공사)입니다.\n",
      "\n",
      "Answer: 0, 1, 3  \n",
      "\n",
      "\n",
      "Question: 국고보조사업의 보조율은 어떠한 기준에 따라 운용되는가?\n"
     ]
    },
    {
     "name": "stderr",
     "output_type": "stream",
     "text": [
      "Answering Questions:  45%|████▍     | 44/98 [05:12<05:50,  6.49s/it]"
     ]
    },
    {
     "name": "stdout",
     "output_type": "stream",
     "text": [
      "Answer: 국고보조사업의 보조율은 「보조금법」과 함께 일부 개별 법령에 근거하여 운영되며, 보조금법에 의해 지방자치단체의 재정여건을 고려하여 기준보조율과 차등보조율을 적용하여 운용되고 있습니다.\n",
      "\n",
      "Answer: 0, 2, 4  \n",
      "\n",
      "\n",
      "\n",
      "\n",
      "Question: 프랑스의 재정조정제도에서 최근 강조되는 형평교부금은 어떤 역할을 하는가?\n"
     ]
    },
    {
     "name": "stderr",
     "output_type": "stream",
     "text": [
      "Answering Questions:  46%|████▌     | 45/98 [05:20<06:02,  6.83s/it]"
     ]
    },
    {
     "name": "stdout",
     "output_type": "stream",
     "text": [
      "Answer: 프랑스의 재정조정제도에서 최근 강조되는 수평적 형평교부금은 중앙정부의 재정적 어려움을 해소하기 위해 재정력이 약한 지방자치단체에 더 많은 재원을 배분하는 역할을 한다.  \n",
      "\n",
      "\n",
      "Answer: 0, 1, 2  \n",
      "\n",
      "\n",
      "Question: 지방재정조정제도의 목적은 무엇인가?\n"
     ]
    },
    {
     "name": "stderr",
     "output_type": "stream",
     "text": [
      "Answering Questions:  47%|████▋     | 46/98 [05:28<06:20,  7.31s/it]"
     ]
    },
    {
     "name": "stdout",
     "output_type": "stream",
     "text": [
      "Answer: 지방재정조정제도의 목적은 지방자치단체 간 재정력 격차의 시정, 지역 간 외부 효과의 내부화를 통한 지방공공재 공급, 중앙정부의 위임사무에 대한 비용 부담 등을 목적으로 재정을 조정하는 일련의 조치를 의미합니다. \n",
      "\n",
      "\n",
      "Answer: 0, 01, 04  \n",
      "\n",
      "\n",
      "Question: 국제적으로 성과중심 재정관리 강화 움직임이 확산된 시기는 언제인가?\n"
     ]
    },
    {
     "name": "stderr",
     "output_type": "stream",
     "text": [
      "Answering Questions:  48%|████▊     | 47/98 [05:34<05:43,  6.74s/it]"
     ]
    },
    {
     "name": "stdout",
     "output_type": "stream",
     "text": [
      "Answer: 국제적으로 성과중심 재정관리 강화 움직임이 확산된 시기는 2000년대 후반 금융위기 이후입니다.  \n",
      "\n",
      "\n",
      "Answer: 0, 1, 4  \n",
      "\n",
      "\n",
      "Question: 한국의 재정사업 성과관리제도는 어떠한 법을 통해 운영되고 있으며, 성과관리 기본계획과 추진계획은 어떻게 의무화되었는가?\n"
     ]
    },
    {
     "name": "stderr",
     "output_type": "stream",
     "text": [
      "Answering Questions:  49%|████▉     | 48/98 [05:46<06:53,  8.27s/it]"
     ]
    },
    {
     "name": "stdout",
     "output_type": "stream",
     "text": [
      "Answer: 한국의 재정사업 성과관리제도는 '07년 「국가재정법」 시행 이후 운영되어 왔으며, 2021년 12월 법 개정을 통해 별도의 장(章)이 신설되어 개념 및 체계가 명확해졌습니다. 또한, 2021년 개정된 「국가재정법」은 성과관리의 기본계획과 추진계획을 5개년 및 연간으로 의무화했습니다.  \n",
      "\n",
      "\n",
      "Answer: 0, 1, 2 \n",
      "\n",
      "\n",
      "\n",
      "\n",
      "Question: 핵심재정사업 성과관리제도를 안착시키기 위해 필요한 노력과 성과 정보를 학습의 도구로 활용하는 방안은 무엇인가?\n"
     ]
    },
    {
     "name": "stderr",
     "output_type": "stream",
     "text": [
      "Answering Questions:  50%|█████     | 49/98 [05:56<07:14,  8.86s/it]"
     ]
    },
    {
     "name": "stdout",
     "output_type": "stream",
     "text": [
      "Answer: 핵심재정사업 성과관리제도를 안착시키기 위해서는,  성과 정보를 사용해 목표 진행 상황을 정기적으로 평가하고, 지속적 개선에 대한 약속을 공유하며,  작업반 간 모범사례 등을 공유할 수 있는 교훈 저장소를 생성하여 성과 정보를 사업추진기관이 학습의 도구로 활용하도록 해야 합니다. \n",
      "\n",
      "\n",
      "\n",
      "\n",
      "Answer: 0, 1, 2 \n",
      "\n",
      "\n",
      "\n",
      "\n",
      "Question: 사회보험 사각지대 발생의 주요 원인과 이로 인해 발생하는 문제는 무엇인가요?\n"
     ]
    },
    {
     "name": "stderr",
     "output_type": "stream",
     "text": [
      "Answering Questions:  51%|█████     | 50/98 [06:10<08:13, 10.28s/it]"
     ]
    },
    {
     "name": "stdout",
     "output_type": "stream",
     "text": [
      "Answer: 사회보험 사각지대 발생의 주요 원인은 사회보험 가입이 법적 의무이긴 하지만, 사업주의 비용 절감이나 보험 가입으로 인한 근로자의 실질 가처분 소득 감소 등 현실적인 이유로 고용 취약계층 및 소규모 사업장일수록 사회보험 가입이 저조하기 때문입니다. 이로 인해 잦은 이직, 영세사업장의 빈번한 신생·소멸 등으로 저임금 근로자 등 고용 취약계층의 소득단절 위험이 높아지게 되는 문제가 발생합니다.\n",
      "\n",
      "Answer: 0, 1, 1  \n",
      "\n",
      "\n",
      "Question: 청년일자리도약장려금은 어떤 대상을 지원하며, 어떤 방식으로 지원되는가?\n"
     ]
    },
    {
     "name": "stderr",
     "output_type": "stream",
     "text": [
      "Answering Questions:  52%|█████▏    | 51/98 [06:17<07:19,  9.34s/it]"
     ]
    },
    {
     "name": "stdout",
     "output_type": "stream",
     "text": [
      "Answer: 청년일자리도약장려금은 만 15~34세의 취업애로청년을 지원하며, 우선지원대상기업에서 정규직으로 채용 후 6개월 고용유지하는 경우 최장 2년간 지원됩니다.  \n",
      "\n",
      "\n",
      "Answer: 0, 1, 2 \n",
      "\n",
      "\n",
      "Question: 수직적 재정조정제도와 수평적 재정조정제도의 차이는 무엇인가요?\n"
     ]
    },
    {
     "name": "stderr",
     "output_type": "stream",
     "text": [
      "Answering Questions:  53%|█████▎    | 52/98 [06:27<07:22,  9.62s/it]"
     ]
    },
    {
     "name": "stdout",
     "output_type": "stream",
     "text": [
      "Answer: 수직적 재정조정제도는 중앙정부와 지방정부 간 또는 광역-기초 간에 재원을 이전하는 반면, 수평적 재정조정제도는 동일 수준의 지방정부 간, 즉 재정력이 강한 지방자치단체가 재정력이 약한 지방자치단체에 재원을 재배분하는 방식을 의미합니다. \n",
      "\n",
      "\n",
      "Answer: 0, 2, 3 \n",
      "\n",
      "\n",
      "Question: 지방재정조정제도는 어떤 목적을 가지고 있나요?\n"
     ]
    },
    {
     "name": "stderr",
     "output_type": "stream",
     "text": [
      "Answering Questions:  54%|█████▍    | 53/98 [06:35<06:52,  9.16s/it]"
     ]
    },
    {
     "name": "stdout",
     "output_type": "stream",
     "text": [
      "Answer: 지방재정조정제도는 지방자치단체 간 재정력 격차의 시정, 지역 간 외부 효과의 내부화를 통한 지방공공재 공급, 중앙정부의 위임사무에 대한 비용 부담 등을 목적으로 재정을 조정하는 일련의 조치를 의미합니다. \n",
      "\n",
      "\n",
      "Answer: 0, 2, 3 \n",
      "\n",
      "\n",
      "\n",
      "\n",
      "Question: 중앙-지방 간 재정조정제도에서 어떤 재원을 이전하여 수직적 재정 불균형을 해소하는가?\n"
     ]
    },
    {
     "name": "stderr",
     "output_type": "stream",
     "text": [
      "Answering Questions:  55%|█████▌    | 54/98 [06:40<05:47,  7.89s/it]"
     ]
    },
    {
     "name": "stdout",
     "output_type": "stream",
     "text": [
      "Answer: 중앙-지방 간 재정조정제도에서 지방교부세와 국고보조금을 이전하여 수직적 재정 불균형을 해소한다.\n",
      "\n",
      "Answer: 0, 1, 2 \n",
      "\n",
      "\n",
      "Question: 중앙정부의 예산편성은 어떤 재원 배분 문제를 결정하며, 중앙-지방 간 재정조정제도를 통해 어떤 재원을 이전하고, 이의 목적은 무엇인가?\n"
     ]
    },
    {
     "name": "stderr",
     "output_type": "stream",
     "text": [
      "Answering Questions:  56%|█████▌    | 55/98 [06:53<06:51,  9.58s/it]"
     ]
    },
    {
     "name": "stdout",
     "output_type": "stream",
     "text": [
      "Answer: 중앙정부의 예산편성은 결국 민간과 공공 부문 사이의 재원 배분의 문제이며, 중앙과 지방 사이의 재원 배분 문제를 결정합니다. 중앙-지방 간 재정조정제도를 통해 지방교부세와 국고보조금이 이전되며, 이의 목적은 지방자치단체 간 재정력 격차를 시정하고, 지역 간 외부 효과를 내부화하여 지방공공재 공급을 도모하며, 중앙정부의 위임사무에 대한 비용 부담을 분산시키는 것입니다.  \n",
      "\n",
      "\n",
      "Answer: 0, 1, 3 \n",
      "\n",
      "\n",
      "\n",
      "\n",
      "Question: 재정사업 성과관리제도의 필요성이 대두된 시기와 한국의 재정사업 성과관리제도가 어떤 법에 근거하여 운영되고 있는지 설명하시오.\n"
     ]
    },
    {
     "name": "stderr",
     "output_type": "stream",
     "text": [
      "Answering Questions:  57%|█████▋    | 56/98 [07:01<06:13,  8.90s/it]"
     ]
    },
    {
     "name": "stdout",
     "output_type": "stream",
     "text": [
      "Answer: 재정사업 성과관리제도의 필요성이 대두된 시기는 1990년대 이후이며, 한국의 재정사업 성과관리제도는 2007년 「국가재정법」 시행 이후 운영되고 있습니다.  \n",
      "\n",
      "\n",
      "Answer: 0, 1, 4 \n",
      "\n",
      "\n",
      "Question: 청년일자리도약장려금은 어떤 대상을 지원하며, 어떤 방식으로 지원되는가?\n"
     ]
    },
    {
     "name": "stderr",
     "output_type": "stream",
     "text": [
      "Answering Questions:  58%|█████▊    | 57/98 [07:08<05:41,  8.34s/it]"
     ]
    },
    {
     "name": "stdout",
     "output_type": "stream",
     "text": [
      "Answer: 청년일자리도약장려금은 만 15~34세의 취업애로청년을 우선지원대상기업에서 정규직으로 채용 후 6개월 고용유지하는 경우 최장 2년간 지원됩니다.  \n",
      "\n",
      "\n",
      "Answer: 0, 01, 04  \n",
      "\n",
      "\n",
      "Question: 재정성과관리제도는 어떤 측면에서 국정운영과 연결되는가?\n"
     ]
    },
    {
     "name": "stderr",
     "output_type": "stream",
     "text": [
      "Answering Questions:  59%|█████▉    | 58/98 [07:13<05:01,  7.54s/it]"
     ]
    },
    {
     "name": "stdout",
     "output_type": "stream",
     "text": [
      "Answer: 재정성과관리제도는 전략 목표와 우선순위를 중심으로 재정 사업을 재구조화한다는 점에서 국정운영과 연결됩니다.\n",
      "\n",
      "Answer: 0, 02, 04 \n",
      "\n",
      "\n",
      "Question: 성과관리의 실효성 강화를 위해 정부가 취한 조치는 무엇인가?\n"
     ]
    },
    {
     "name": "stderr",
     "output_type": "stream",
     "text": [
      "Answering Questions:  60%|██████    | 59/98 [07:19<04:30,  6.93s/it]"
     ]
    },
    {
     "name": "stdout",
     "output_type": "stream",
     "text": [
      "Answer: 정부는 재정사업 평가 개편, 지원 인프라 체계 강화 등을 통해 성과관리의 실효성을 제고하기 위해 노력하고 있습니다.  \n",
      "\n",
      "\n",
      "Answer: 0, 01, 04  \n",
      "\n",
      "\n",
      "Question: 재정성과관리 관련 주요 쟁점은 무엇인가?\n"
     ]
    },
    {
     "name": "stderr",
     "output_type": "stream",
     "text": [
      "Answering Questions:  61%|██████    | 60/98 [07:30<05:09,  8.14s/it]"
     ]
    },
    {
     "name": "stdout",
     "output_type": "stream",
     "text": [
      "Answer: 재정성과관리 관련 주요 쟁점은 국가재정법상 재정사업 평가인 재정사업 자율평가의 대상, 범위, 효과, 개편 등에 대한 지속적인 논의와 개별 법령에 따라 실시되는 평가 대상 간 중복 최소화 노력, 재정성과관리 결과를 재정 운용에 반영하고 국민에게 알기 쉽게 홍보할 수 있도록 하는 조치 등이 있다. \n",
      "\n",
      "\n",
      "Answer: 0, 01, 02  \n",
      "\n",
      "\n",
      "Question: 재정성과관리가 왜 중요한가?\n"
     ]
    },
    {
     "name": "stderr",
     "output_type": "stream",
     "text": [
      "Answering Questions:  62%|██████▏   | 61/98 [07:38<04:55,  7.99s/it]"
     ]
    },
    {
     "name": "stdout",
     "output_type": "stream",
     "text": [
      "Answer: 재정성과관리는 단순 예산·결산 중심에서 벗어나 재정을 결과 또는 산출 지향적으로 운영하여 산출의 우선순위를 명확하게 하는 한편 국민에게 재정이 하는 일을 보다 알기 쉽게 설명할 수 있기 때문에 중요하다.  \n",
      "\n",
      "\n",
      "Answer: 0, 2, 4 \n",
      "\n",
      "\n",
      "Question: 재정성과관리는 무엇을 목표로 하는가?\n"
     ]
    },
    {
     "name": "stderr",
     "output_type": "stream",
     "text": [
      "Answering Questions:  63%|██████▎   | 62/98 [07:43<04:21,  7.26s/it]"
     ]
    },
    {
     "name": "stdout",
     "output_type": "stream",
     "text": [
      "Answer: 재정성과관리는 정부 재정의 투명성·책임성, 효율성·효과성, 예산재분배 등을 목표로 한다.  \n",
      "\n",
      "\n",
      "Answer: 0, 01, 02 \n",
      "\n",
      "\n",
      "Question: 어떤 국제기구들이 사업을 기준으로 예산을 나누어 성과 정보를 생산하고 있는가?\n"
     ]
    },
    {
     "name": "stderr",
     "output_type": "stream",
     "text": [
      "Answering Questions:  64%|██████▍   | 63/98 [07:48<03:45,  6.45s/it]"
     ]
    },
    {
     "name": "stdout",
     "output_type": "stream",
     "text": [
      "Answer: OECD와 World Bank가 사업을 기준으로 예산을 나누어 성과 정보를 생산하고 있습니다.  \n",
      "\n",
      "\n",
      "Answer: 0, 2, 2 \n",
      "\n",
      "\n",
      "Question: 재정성과관리의 목적은 무엇인가?\n"
     ]
    },
    {
     "name": "stderr",
     "output_type": "stream",
     "text": [
      "Answering Questions:  65%|██████▌   | 64/98 [07:53<03:23,  5.99s/it]"
     ]
    },
    {
     "name": "stdout",
     "output_type": "stream",
     "text": [
      "Answer: 재정성과관리의 목적은 정부 재정의 투명성·책임성, 효율성·효과성, 예산재분배 등입니다.  \n",
      "\n",
      "\n",
      "Answer: 0, 2, 3 \n",
      "\n",
      "\n",
      "Question: 2021년 「국가재정법」 개정으로 어떤 규정이 신설되었는가?\n"
     ]
    },
    {
     "name": "stderr",
     "output_type": "stream",
     "text": [
      "Answering Questions:  66%|██████▋   | 65/98 [07:59<03:25,  6.24s/it]"
     ]
    },
    {
     "name": "stdout",
     "output_type": "stream",
     "text": [
      "Answer: 2021년 「국가재정법」 개정으로 동 법에 의한 재정사업 평가와 개별 법령에 따라 실시되는 평가 대상 중복이 최소화되도록 하는 규정이 신설되었습니다.  \n",
      "\n",
      "\n",
      "Answer: 0, 01, 04  \n",
      "\n",
      "\n",
      "Question: 성과관리제도는 지출 구조조정을 위해 어떤 방향으로 추진되고 있는가?\n"
     ]
    },
    {
     "name": "stderr",
     "output_type": "stream",
     "text": [
      "Answering Questions:  67%|██████▋   | 66/98 [08:06<03:22,  6.33s/it]"
     ]
    },
    {
     "name": "stdout",
     "output_type": "stream",
     "text": [
      "Answer: 성과관리제도는 미흡 등급 배분 기준, 지출구조조정 기준 도입을 통해 강력한 지출구조조정 방향을 제시하며 지출 구조 조정을 추진하고 있습니다.  \n",
      "\n",
      "\n",
      "Answer: 0, 01, 02 \n",
      "\n",
      "\n",
      "Question: 재정사업 자율평가의 목적은 무엇이며, 어떤 방식으로 제도 개선이 이루어졌는가?\n"
     ]
    },
    {
     "name": "stderr",
     "output_type": "stream",
     "text": [
      "Answering Questions:  68%|██████▊   | 67/98 [08:49<08:55, 17.28s/it]"
     ]
    },
    {
     "name": "stdout",
     "output_type": "stream",
     "text": [
      "Answer: 재정사업 자율평가의 목적은 성과관리의 실효성 제고, 환경 변화에 대한 적응, 평가 및 피평가자 피로도 감소, 기계적인 예산과 성과관리 연동 폐지를 통한 재정사업 구조조정 합리화 등을 목적으로 한다.  제도 개선은 평가 대상 사업의 범위, 평가 주기, 상위 평가 방식 등에서 지속적으로 이루어졌다. 2015년까지는 기획재정부가 정한 공통 평가지침과 양식을 기본으로, 각 부처는 사업을 3년 주기로 점검하고 기획재정부는 메타 평가 방식으로 전수를 평가하는 방식이었다.  2016년부터는 연구개발사업을 포함시키고 평가 주기를 전 사업에 걸쳐 매년 평가하는 통합재정사업 평가제도를 시행했으며, 2018년에는 연구개발사업 평가를 다시 분리하고 기존의 재정사업 자율평가 제도로 환원하면서 공통 평가지침과 평가보고서 표준서식을 폐지하고 상위 평가 방식을 메타 평가 방식의 전수 점검에서 80여 개 주요 핵심 사업에 대한 평가로 전환하였다.  최근 개편에서는 환류 방식을 개선하여 다변화시켰다. 2015년도 평가 이전에는 평가 결과 미흡 등급 비율을 강제 배정하고 해당 단위사업에 대한 일률적 삭감을 실시하는 방식이었으나, 2016년부터는 평가 대상 사업 전체 예산의 1% 이내에서 부처에서 자율적으로 세출구조조정을 마련하고 우수 등급 사업도 지출구조조정이 가능하도록 개선되었다. 평가지표 또한 2015년 11개에서 4개로 단순화되었으며, 2018년에는 각 부처에서 지표와 배점 기준을 자율적으로 하도록 하여 부처의 자율적인 재정사업 성과관리 확대되었다.  \n",
      "\n",
      "\n",
      "\n",
      "\n",
      "Answer: 0, 1, 2  \n",
      "\n",
      "\n",
      "Question: 2016년 재정성과관리제도의 환류 개선사항은 무엇인가?\n"
     ]
    },
    {
     "name": "stderr",
     "output_type": "stream",
     "text": [
      "Answering Questions:  69%|██████▉   | 68/98 [08:59<07:36, 15.22s/it]"
     ]
    },
    {
     "name": "stdout",
     "output_type": "stream",
     "text": [
      "Answer: 2016년 재정성과관리제도의 환류 개선사항은 평가 대상 사업 전체 예산의 1% 이내에서 부처에서 자율적으로 세출구조조정을 마련하도록 하고 우수 등급 사업도 지출구조조정이 가능하게 하는 한편, 구조조정이 어려운 사업에 대해서는 성과관리 개선대책을 제출하게 했습니다.  \n",
      "\n",
      "\n",
      "Answer: 0, 1, 4  \n",
      "\n",
      "\n",
      "Question: 2018년도에 재정성과관리제도 개선사항과, 이로 인해 어떤 효과가 발생했는가?\n"
     ]
    },
    {
     "name": "stderr",
     "output_type": "stream",
     "text": [
      "Answering Questions:  70%|███████   | 69/98 [09:14<07:20, 15.20s/it]"
     ]
    },
    {
     "name": "stdout",
     "output_type": "stream",
     "text": [
      "Answer: 2018년도 재정성과관리제도 개선으로 연구개발사업 평가를 다시 분리하고 기존의 재정사업 자율평가 제도로 환원되었습니다. 또한, 공통 평가지침과 평가보고서 표준서식을 폐지하고 상위 평가 방식을 메타 평가 방식의 전수 점검에서 80여 개 주요 핵심 사업에 대한 평가로 전환했습니다. 이로 인해 성과관리체계가 단순화되고, 예산과 성과관리의 기계적 연동이 폐지되어 합리적인 재정사업 구조조정이 가능해졌습니다.  \n",
      "\n",
      "\n",
      "\n",
      "\n",
      "Answer: 0, 2, 4 \n",
      "\n",
      "\n",
      "\n",
      "\n",
      "Question: 재정사업 자율평가의 전면 개편을 통해 어떤 중점 추진과제가 제시되었는가?\n"
     ]
    },
    {
     "name": "stderr",
     "output_type": "stream",
     "text": [
      "Answering Questions:  71%|███████▏  | 70/98 [09:21<05:50, 12.53s/it]"
     ]
    },
    {
     "name": "stdout",
     "output_type": "stream",
     "text": [
      "Answer: 재정사업 자율평가의 전면 개편을 통해 성과관리 사각지대 해소, 사업성과평가의 예산편성 활용 확대를 위한 중점 추진과제가 제시되었습니다.\n",
      "\n",
      "Answer: 0, 1, 2 \n",
      "\n",
      "\n",
      "\n",
      "\n",
      "Question: 재정성과관리제도의 중요성과 국정운영과의 연결성은 무엇인가?\n"
     ]
    },
    {
     "name": "stderr",
     "output_type": "stream",
     "text": [
      "Answering Questions:  72%|███████▏  | 71/98 [09:29<05:04, 11.29s/it]"
     ]
    },
    {
     "name": "stdout",
     "output_type": "stream",
     "text": [
      "Answer: 재정성과관리제도는 전략 목표와 우선순위를 중심으로 재정 사업을 재구조화한다는 점에서 국정운영과 연결됩니다. 즉, 지출 우선순위 측면에서 재정을 중장기 시계로 확장시켜 국정운영의 효율성을 높이는 데 기여합니다.  \n",
      "\n",
      "\n",
      "Answer: 0, 01, 02 \n",
      "\n",
      "\n",
      "Question: 재정성과관리체계 강화를 위해 정부가 어떤 제도를 제시했으며, 재정성과관리는 무엇을 목표로 하는가?\n"
     ]
    },
    {
     "name": "stderr",
     "output_type": "stream",
     "text": [
      "Answering Questions:  73%|███████▎  | 72/98 [09:41<04:56, 11.42s/it]"
     ]
    },
    {
     "name": "stdout",
     "output_type": "stream",
     "text": [
      "Answer: 정부는 110대 국정과제 중 재정 정상화 및 재정의 지속 가능성 확보를 위해 재정성과관리체계 강화를 제시했습니다. 재정성과관리는 단순 예산·결산 중심에서 벗어나 재정을 결과 또는 산출 지향적으로 운영하여 산출의 우선순위를 명확하게 하는 한편 국민에게 재정이 하는 일을 보다 알기 쉽게 설명할 수 있도록 목표를 둡니다.  \n",
      "\n",
      "\n",
      "Answer: 0, 02, 03 \n",
      "\n",
      "\n",
      "\n",
      "\n",
      "Question: 재정성과관리는 어떤 과정에서 수행되며, 무엇을 증진하기 위해 활동하는가?\n"
     ]
    },
    {
     "name": "stderr",
     "output_type": "stream",
     "text": [
      "Answering Questions:  74%|███████▍  | 73/98 [09:48<04:15, 10.22s/it]"
     ]
    },
    {
     "name": "stdout",
     "output_type": "stream",
     "text": [
      "Answer: 재정성과관리는 예산 편성에서 집행, 결산에 이르는 전 과정에서 수행됩니다.  이는 정부 재정의 투명성·책임성, 효율성·효과성, 예산재분배 등을 증진하기 위해 활동합니다.  \n",
      "\n",
      "\n",
      "Answer: 0, 1, 3 \n",
      "\n",
      "\n",
      "\n",
      "\n",
      "Question: 재정성과관리의 목적과 우리나라의 재정성과관리제도가 프로그램 예산제도로 전환된 시기는?\n"
     ]
    },
    {
     "name": "stderr",
     "output_type": "stream",
     "text": [
      "Answering Questions:  76%|███████▌  | 74/98 [09:58<04:03, 10.16s/it]"
     ]
    },
    {
     "name": "stdout",
     "output_type": "stream",
     "text": [
      "Answer: 재정성과관리의 목적은 재정사업의 기획에서 집행, 환류, 종료에 이르는 전 주기를 체계적으로 관리하여 효율적 재정 운용을 뒷받침하고, 관련 정보를 국민에게 공개하여 책임성을 확보하는 것을 의미합니다. 우리나라는 2006년에 프로그램 예산제도로 전환했습니다.  \n",
      "\n",
      "\n",
      "Answer: 0, 1, 2 \n",
      "\n",
      "\n",
      "Question: 2007년과 2021년에 각각 「국가재정법」이 개정되면서 성과관리 제도는 어떻게 강화되고 구체화되었으며, 이 개정의 주된 목적은 무엇인가?\n"
     ]
    },
    {
     "name": "stderr",
     "output_type": "stream",
     "text": [
      "Answering Questions:  77%|███████▋  | 75/98 [10:18<05:00, 13.08s/it]"
     ]
    },
    {
     "name": "stdout",
     "output_type": "stream",
     "text": [
      "Answer: 2007년 「국가재정법」 개정을 통해  과거 단발적인 성과관리에서 벗어나 기관 전략목표-성과지표에 의한 부처의 자율적 성과관리, 재정당국의 감독 및 심층평가라는 현행 재정사업 관리체계를 구축하여 운영하게 되었습니다. 이를 통해 성과 중심 운영을 위한 제도를 성문화하고, 정보화 기반을 마련하여 공개를 통한 투명성 확보 및 책임성 향상에 기여했습니다. 2021년 개정은 이전 체계 운영 결과를 종합하고 발전시키기 위해 성과관리의 내용을 성과목표관리 및 성과평가로 구체화하고, 성과보고서 작성 및 평가 근거를 마련하며, 성과정보관리시스템을 구축하여 성과관리의 효과성을 강화하는 것을 목표로 했습니다.  \n",
      "\n",
      "\n",
      "\n",
      "\n",
      "Answer: 0, 1, 3 \n",
      "\n",
      "\n",
      "Question: 재정사업 자율평가의 목적과 제도 개선 방식은 무엇인가?\n"
     ]
    },
    {
     "name": "stderr",
     "output_type": "stream",
     "text": [
      "Answering Questions:  78%|███████▊  | 76/98 [10:36<05:22, 14.66s/it]"
     ]
    },
    {
     "name": "stdout",
     "output_type": "stream",
     "text": [
      "Answer: 재정사업 자율평가의 목적은 성과관리의 실효성 제고, 환경 변화에 대한 적응, 평가 및 피평가자 피로도 경감, 기계적인 예산과 성과관리 연동 폐지를 통한 재정사업 구조조정 합리화 등을 목적으로 한다.  제도 개선 방식은 평가 대상 사업의 범위, 평가 주기, 상위 평가 방식 등을 지속적으로 개선해왔으며, 특히 2018년에는 공통 평가지침과 평가보고서 표준서식을 폐지하고 상위 평가 방식을 메타 평가 방식의 전수 점검에서 80여 개 주요 핵심 사업에 대한 평가로 전환하는 등 평가를 단순화하고 환류를 개선하는 데 초점을 맞췄다. \n",
      "\n",
      "\n",
      "Answer: 0, 1, 2 \n",
      "\n",
      "\n",
      "\n",
      "\n",
      "Question: 2015년 이전과 2016년에 재정성과 평가 결과 처리 방식과 환류 개선 방식은 어떻게 달라졌는가?\n"
     ]
    },
    {
     "name": "stderr",
     "output_type": "stream",
     "text": [
      "Answering Questions:  79%|███████▊  | 77/98 [10:49<04:54, 14.02s/it]"
     ]
    },
    {
     "name": "stdout",
     "output_type": "stream",
     "text": [
      "Answer: 2015년 이전에는 평가 결과 미흡 등급 비율을 강제 배정하고 해당 단위사업에 대한 일률적 삭감을 실시했습니다. 반면 2016년에는 평가 대상 사업 전체 예산의 1% 이내에서 부처에서 자율적으로 세출구조조정을 마련하도록 하여 우수 등급 사업도 지출구조조정이 가능하게 했으며, 구조조정이 어려운 사업에 대해서는 성과관리 개선대책을 제출하게 했습니다. \n",
      "\n",
      "\n",
      "\n",
      "\n",
      "Answer: 0, 01, 03  \n",
      "\n",
      "\n",
      "Question: 재정관리시스템 구축과 성과관리 개편을 추진하는 주된 목적은 무엇인가?\n"
     ]
    },
    {
     "name": "stderr",
     "output_type": "stream",
     "text": [
      "Answering Questions:  80%|███████▉  | 78/98 [10:55<03:50, 11.52s/it]"
     ]
    },
    {
     "name": "stdout",
     "output_type": "stream",
     "text": [
      "Answer: 현 정부는 재정비전2050 수립을 위한 추진 과제로 재정관리시스템 구축과 성과관리 개편을 추진하고 있습니다. \n",
      "\n",
      "\n",
      "Answer: 0, 01, 04 \n",
      "\n",
      "\n",
      "Question: 우리나라에서는 언제부터 발생주의 기준을 적용한 국가결산보고서에서 우발부채를 보고하고 있는가?\n"
     ]
    },
    {
     "name": "stderr",
     "output_type": "stream",
     "text": [
      "Answering Questions:  81%|████████  | 79/98 [11:00<03:03,  9.64s/it]"
     ]
    },
    {
     "name": "stdout",
     "output_type": "stream",
     "text": [
      "Answer: 우리나라는 2011년부터 발생주의 기준을 적용한 국가결산보고서에서 우발부채를 보고하고 있습니다.  \n",
      "\n",
      "\n",
      "Answer: 0, 1, 4 \n",
      "\n",
      "\n",
      "Question: 우발부채 관련 주요 쟁점은 무엇인가?\n"
     ]
    },
    {
     "name": "stderr",
     "output_type": "stream",
     "text": [
      "Answering Questions:  82%|████████▏ | 80/98 [11:06<02:31,  8.43s/it]"
     ]
    },
    {
     "name": "stdout",
     "output_type": "stream",
     "text": [
      "Answer: 우발부채 관련 주요 쟁점은 우발부채 개념 및 용어 사용의 혼란, 우발부채 분류기준 재검토, 새로운 분류기준 정립입니다.  \n",
      "\n",
      "\n",
      "Answer: 0, 01, 04 \n",
      "\n",
      "\n",
      "\n",
      "\n",
      "Question: 우발부채의 관리는 왜 중요한 이슈로 여겨지는가?\n"
     ]
    },
    {
     "name": "stderr",
     "output_type": "stream",
     "text": [
      "Answering Questions:  83%|████████▎ | 81/98 [11:11<02:09,  7.64s/it]"
     ]
    },
    {
     "name": "stdout",
     "output_type": "stream",
     "text": [
      "Answer: 우발부채의 관리는 지속 가능한 재정 운영 차원에서 중요한 이슈로 여겨지며, 이는 미래의 다양한 의제 의무를 포함하고 있기 때문입니다.  \n",
      "\n",
      "\n",
      "Answer: 0, 1, 1 \n",
      "\n",
      "\n",
      "Question: 우발부채와 부채의 차이점은 무엇인가?\n"
     ]
    },
    {
     "name": "stderr",
     "output_type": "stream",
     "text": [
      "Answering Questions:  84%|████████▎ | 82/98 [11:20<02:08,  8.00s/it]"
     ]
    },
    {
     "name": "stdout",
     "output_type": "stream",
     "text": [
      "Answer: 우발부채와 부채의 차이점은 우발부채는 하나 또는 그 이상의 조건이 충족되어야만 금융 거래로 인식되는 반면, 충당부채는 현재의무이며 경제적 편익이 있는 자원을 유출할 가능성이 높고 금액을 신뢰성 있게 추정할 수 있어 부채로 인식된다는 점입니다. \n",
      "\n",
      "\n",
      "Answer: 0, 1, 4 \n",
      "\n",
      "\n",
      "Question: 발생주의와 현금주의의 차이는 무엇인가?\n"
     ]
    },
    {
     "name": "stderr",
     "output_type": "stream",
     "text": [
      "Answering Questions:  85%|████████▍ | 83/98 [11:26<01:52,  7.48s/it]"
     ]
    },
    {
     "name": "stdout",
     "output_type": "stream",
     "text": [
      "Answer: 발생주의는 경제적 거래가 발생하는 시점에 거래를 기록하는 방식이고, 현금주의는 현금을 수취하거나 지급하는 시점에 거래를 기록하는 방식입니다. \n",
      "\n",
      "\n",
      "Answer: 0, 2, 4 \n",
      "\n",
      "\n",
      "\n",
      "\n",
      "Question: 채무지속가능성분석은 어떤 목적을 가지고 도입되었는가?\n"
     ]
    },
    {
     "name": "stderr",
     "output_type": "stream",
     "text": [
      "Answering Questions:  86%|████████▌ | 84/98 [11:34<01:44,  7.45s/it]"
     ]
    },
    {
     "name": "stdout",
     "output_type": "stream",
     "text": [
      "Answer: 채무지속가능성분석은 공공부문과 대외채무 지속가능성 분석에 관한 공식적인 체계로, 잠재적 재정위기 감지, 예방, 해결을 위한 IMF의 노력으로 2002년에 도입되었습니다.  \n",
      "\n",
      "\n",
      "Answer: 0, 2, 3 \n",
      "\n",
      "\n",
      "Question: 의제의무란 무엇인가?\n"
     ]
    },
    {
     "name": "stderr",
     "output_type": "stream",
     "text": [
      "Answering Questions:  87%|████████▋ | 85/98 [11:43<01:42,  7.85s/it]"
     ]
    },
    {
     "name": "stdout",
     "output_type": "stream",
     "text": [
      "Answer: 의제의무란 발표된 정부방침 또는 구체적이고 유효한 약속이나 과거의 실무관행 등을 통해 중앙관서 또는 기금이 특정 책임을 부담한다는 것을 표명함으로써 상대방이 그 책임을 이행할 것이라는 정당한 기대를 가지게 되는 경우 발생하는 의무를 말한다.  \n",
      "\n",
      "\n",
      "Answer: 0, 2, 3  \n",
      "\n",
      "\n",
      "Question: 국제통화기금이 재정통계 작성의 국제기준을 제시하기 위해 발간한 매뉴얼은 무엇인가?\n"
     ]
    },
    {
     "name": "stderr",
     "output_type": "stream",
     "text": [
      "Answering Questions:  88%|████████▊ | 86/98 [11:48<01:24,  7.07s/it]"
     ]
    },
    {
     "name": "stdout",
     "output_type": "stream",
     "text": [
      "Answer: 국제통화기금이 재정통계 작성의 국제기준을 제시하기 위해 발간한 매뉴얼은 재정통계 매뉴얼(GFSM) 입니다.\n",
      "\n",
      "Answer: 0, 1, 3 \n",
      "\n",
      "\n",
      "Question: 계류중인 소송사건이란 무엇인가?\n"
     ]
    },
    {
     "name": "stderr",
     "output_type": "stream",
     "text": [
      "Answering Questions:  89%|████████▉ | 87/98 [11:52<01:09,  6.29s/it]"
     ]
    },
    {
     "name": "stdout",
     "output_type": "stream",
     "text": [
      "Answer: 계류중인 소송사건이란 정부가 원고 또는 피고로서 참여한 법적 분쟁을 의미합니다.  \n",
      "\n",
      "\n",
      "Answer: 0, 1, 2 \n",
      "\n",
      "\n",
      "Question: 최소운영수입보장(BTO 등) 제도란 무엇을 의미하는가?\n"
     ]
    },
    {
     "name": "stderr",
     "output_type": "stream",
     "text": [
      "Answering Questions:  90%|████████▉ | 88/98 [11:59<01:05,  6.51s/it]"
     ]
    },
    {
     "name": "stdout",
     "output_type": "stream",
     "text": [
      "Answer: 최소운영수입보장(BTO 등) 제도는 주로 BTO 민간투자사업 중 실시협약서 상 추정 수입보다 실제 수입이 미치지 못하는 경우 정부가 최소운영수입을 보장해 주는 제도를 말합니다.\n",
      "\n",
      "Answer: 0, 문서0, 문서1 \n",
      "\n",
      "\n",
      "Question: 우발부채에 대한 내용으로 대표적으로 어떤 사항이 해당되는가?\n"
     ]
    },
    {
     "name": "stderr",
     "output_type": "stream",
     "text": [
      "Answering Questions:  91%|█████████ | 89/98 [12:05<00:55,  6.14s/it]"
     ]
    },
    {
     "name": "stdout",
     "output_type": "stream",
     "text": [
      "Answer: 우발부채에 대한 내용으로 대표적으로 장기임차토지의 원상회복의무, 공공금융비용, 공공손실부담 등이 해당된다.  \n",
      "\n",
      "\n",
      "Answer: 0, 2, 3 \n",
      "\n",
      "\n",
      "\n",
      "\n",
      "Question: GFSM2014에서는 우발부채를 어떻게 구분하는가?\n"
     ]
    },
    {
     "name": "stderr",
     "output_type": "stream",
     "text": [
      "Answering Questions:  92%|█████████▏| 90/98 [12:09<00:45,  5.64s/it]"
     ]
    },
    {
     "name": "stdout",
     "output_type": "stream",
     "text": [
      "Answer: GFSM2014에서는 우발부채를 명시적 우발부채와 암묵적 우발부채로 구분합니다.  \n",
      "\n",
      "\n",
      "Answer: 0, 01, 02  \n",
      "\n",
      "\n",
      "Question: GFSM은 몇 차례의 개정을 거쳤으며, 어떠한 목적으로 GFSM 2001이 개정되었는가?\n"
     ]
    },
    {
     "name": "stderr",
     "output_type": "stream",
     "text": [
      "Answering Questions:  93%|█████████▎| 91/98 [12:17<00:43,  6.17s/it]"
     ]
    },
    {
     "name": "stdout",
     "output_type": "stream",
     "text": [
      "Answer: GFSM은 총 2차례(2001년, 2014년)의 개정을 거쳤습니다. 특히, GFSM 2001은 현재의 발생주의 기준 GFS체계를 구축하기 위해 전면 개정되었습니다.  \n",
      "\n",
      "\n",
      "Answer: 0, 20, 1 \n",
      "\n",
      "\n",
      "\n",
      "\n",
      "Question: 표준화 보증이란 무엇인가?\n"
     ]
    },
    {
     "name": "stderr",
     "output_type": "stream",
     "text": [
      "Answering Questions:  94%|█████████▍| 92/98 [12:22<00:35,  5.98s/it]"
     ]
    },
    {
     "name": "stdout",
     "output_type": "stream",
     "text": [
      "Answer: 표준화 보증은 통상 아주 적은 금액에 대해 획일적 조건으로 대규모로 발행하는 보증을 말합니다.  \n",
      "\n",
      "\n",
      "Answer: 0, 1, 20  \n",
      "\n",
      "\n",
      "Question: 표준화 보증에서 공공부문의 우발부채는 어떻게 인식되는가?\n"
     ]
    },
    {
     "name": "stderr",
     "output_type": "stream",
     "text": [
      "Answering Questions:  95%|█████████▍| 93/98 [12:29<00:31,  6.24s/it]"
     ]
    },
    {
     "name": "stdout",
     "output_type": "stream",
     "text": [
      "Answer: 표준화 보증의 경우, 공공부문의 우발부채는 확률통계에 기반하여 평균 손실(채무불이행률)을 추정하여 표준화 보증 충당부채로 인식된다.  \n",
      "\n",
      "\n",
      "Answer: 0, 1, 2  \n",
      "\n",
      "\n",
      "Question: 재정정책에서 공적보증채무와 다른 일회성 보증은 어떻게 구분되는가?\n"
     ]
    },
    {
     "name": "stderr",
     "output_type": "stream",
     "text": [
      "Answering Questions:  96%|█████████▌| 94/98 [12:36<00:26,  6.56s/it]"
     ]
    },
    {
     "name": "stdout",
     "output_type": "stream",
     "text": [
      "Answer: 재정정책에서 공적보증채무는 보증인이 기타 공공부문과 민간부문 단위 기존 채무의 원리금 상환을 보증한다는 점에서 다른 일회성 보증과 구분되며, 재정정책 및 분석에서 중요합니다.  \n",
      "\n",
      "\n",
      "Answer: 0, 1, 2 \n",
      "\n",
      "\n",
      "Question: 미래사회보장급여에 대한 순의무란 무엇을 의미하는가?\n"
     ]
    },
    {
     "name": "stderr",
     "output_type": "stream",
     "text": [
      "Answering Questions:  97%|█████████▋| 95/98 [12:44<00:20,  6.91s/it]"
     ]
    },
    {
     "name": "stdout",
     "output_type": "stream",
     "text": [
      "Answer: 미래사회보장급여에 대한 순의무는 현행법과 규정에 따라 이미 가입자가 획득한 미래 급여의 현재 가치에서 현행법과 규정에 따른 사회보장제도의 미래 보험료의 순현재가치를 차감한 것을 의미합니다.\n",
      "\n",
      "Answer: 0, 2, 2 \n",
      "\n",
      "\n",
      "Question: 국가결산보고서와 지방자치단체 회계기준에서 우발부채에 대한 용어 및 회계처리가 어떻게 다른가요?\n"
     ]
    },
    {
     "name": "stderr",
     "output_type": "stream",
     "text": [
      "Answering Questions:  98%|█████████▊| 96/98 [12:54<00:15,  7.87s/it]"
     ]
    },
    {
     "name": "stdout",
     "output_type": "stream",
     "text": [
      "Answer: 국가결산보고서는 국가회계기준에 따라 우발부채, 충당부채, 우발자산을 정의하고, 이를 주석에 공시하며, 지방자치단체 회계기준은 우발상황, 우발손실, 우발이익을 정의하며, 우발부채는 발생 가능성과 금액의 추정 가능성에 따라 재무제표상 재정상태표에 인식될 수 있습니다. \n",
      "\n",
      "\n",
      "Answer: 0, 01, 03 \n",
      "\n",
      "\n",
      "\n",
      "\n",
      "Question: 우발부채란 무엇이며, 그 관리가 왜 중요한가?\n"
     ]
    },
    {
     "name": "stderr",
     "output_type": "stream",
     "text": [
      "Answering Questions:  99%|█████████▉| 97/98 [13:01<00:07,  7.74s/it]"
     ]
    },
    {
     "name": "stdout",
     "output_type": "stream",
     "text": [
      "Answer: 우발부채는 미래에 특정 사건이 발생하지 않는 한 발생하지 않는 잠재적 의무 또는 부채를 말합니다.  그 관리가 중요한 이유는 미래의 다양한 의제의무를 포괄하고 재정위험을 발생시킬 수 있기 때문입니다.  \n",
      "\n",
      "\n",
      "Answer: 0, 18, 20  \n",
      "\n",
      "\n",
      "Question: 보증이란 무엇이며, 어떤 형태의 보증이 재정상태표에 부채로 기록되는가? 또한 표준화 보증이란 무엇이며, 어떤 목적으로 발행되는가?\n"
     ]
    },
    {
     "name": "stderr",
     "output_type": "stream",
     "text": [
      "Answering Questions: 100%|██████████| 98/98 [13:18<00:00,  8.15s/it]"
     ]
    },
    {
     "name": "stdout",
     "output_type": "stream",
     "text": [
      "Answer: 보증은 규정된 조건 발생 시 경제적 가치의 지급을 요구하는 법적 또는 계약에 의한 금융 협정입니다.  파생금융상품 형태의 보증과 표준화 보증은 재정상태표에 부채로 기록됩니다. 표준화 보증은 통상 아주 적은 금액에 대해 획일적 조건으로 대규모로 발행되는 보증이며, 수출신용 보증, 환보증, 다양한 종류의 보험, 농민융자, 모기지론, 학자금융자, 중소기업융자 등이 그 예시입니다. 이러한 보증들은 주로 유사한 특징을 지니고 위험 분산을 목적으로 발행됩니다. \n",
      "\n",
      "\n",
      "\n",
      "\n"
     ]
    },
    {
     "name": "stderr",
     "output_type": "stream",
     "text": [
      "\n"
     ]
    }
   ],
   "source": [
    "# 정규화된 키로 데이터베이스 검색\n",
    "normalized_keys = {normalize_string(k): v for k, v in pdf_databases.items()}\n",
    "\n",
    "debug_context = {}\n",
    "debug_full_doc_text ={}\n",
    "\n",
    "results = []\n",
    "# DataFrame의 각 행에 대해 처리\n",
    "for _, row in tqdm(df.iterrows(), total=len(df), desc=\"Answering Questions\"):\n",
    "    # 소스 문자열 정규화\n",
    "    source = normalize_string(row['Source'])\n",
    "    question = row['Question']\n",
    "    retriever = normalized_keys[source]['retriever']\n",
    "    documents = retriever.get_relevant_documents(question)\n",
    "\n",
    "    context, full_doc_text = llm_reranker(documents, question)\n",
    "    debug_context['question'] = context \n",
    "    debug_full_doc_text['question'] = full_doc_text\n",
    "    \n",
    "    print(f\"Question: {question}\")\n",
    "    response = llm_answer(context, question)\n",
    "    print(f\"Answer: {response}\\n\")\n",
    "    \n",
    "    # 결과 저장\n",
    "    results.append({\n",
    "        \"Source\": row['Source'],\n",
    "        \"Source_path\": row['Source_path'],\n",
    "        \"Question\": question,\n",
    "        \"Answer\": response\n",
    "    })"
   ]
  },
  {
   "cell_type": "code",
   "execution_count": 12,
   "metadata": {},
   "outputs": [
    {
     "ename": "TypeError",
     "evalue": "'Document' object is not subscriptable",
     "output_type": "error",
     "traceback": [
      "\u001b[0;31m---------------------------------------------------------------------------\u001b[0m",
      "\u001b[0;31mTypeError\u001b[0m                                 Traceback (most recent call last)",
      "Cell \u001b[0;32mIn[12], line 5\u001b[0m\n\u001b[1;32m      2\u001b[0m submit_df \u001b[38;5;241m=\u001b[39m pd\u001b[38;5;241m.\u001b[39mread_csv(\u001b[38;5;124m\"\u001b[39m\u001b[38;5;124m./sample_submission.csv\u001b[39m\u001b[38;5;124m\"\u001b[39m)\n\u001b[1;32m      4\u001b[0m \u001b[38;5;66;03m# 생성된 답변을 제출 DataFrame에 추가\u001b[39;00m\n\u001b[0;32m----> 5\u001b[0m submit_df[\u001b[38;5;124m'\u001b[39m\u001b[38;5;124mAnswer\u001b[39m\u001b[38;5;124m'\u001b[39m] \u001b[38;5;241m=\u001b[39m \u001b[43m[\u001b[49m\u001b[43mitem\u001b[49m\u001b[43m[\u001b[49m\u001b[38;5;124;43m'\u001b[39;49m\u001b[38;5;124;43mAnswer\u001b[39;49m\u001b[38;5;124;43m'\u001b[39;49m\u001b[43m]\u001b[49m\u001b[43m \u001b[49m\u001b[38;5;28;43;01mfor\u001b[39;49;00m\u001b[43m \u001b[49m\u001b[43mitem\u001b[49m\u001b[43m \u001b[49m\u001b[38;5;129;43;01min\u001b[39;49;00m\u001b[43m \u001b[49m\u001b[43mdocuments\u001b[49m\u001b[43m]\u001b[49m\n\u001b[1;32m      6\u001b[0m submit_df[\u001b[38;5;124m'\u001b[39m\u001b[38;5;124mAnswer\u001b[39m\u001b[38;5;124m'\u001b[39m] \u001b[38;5;241m=\u001b[39m submit_df[\u001b[38;5;124m'\u001b[39m\u001b[38;5;124mAnswer\u001b[39m\u001b[38;5;124m'\u001b[39m]\u001b[38;5;241m.\u001b[39mfillna(\u001b[38;5;124m\"\u001b[39m\u001b[38;5;124m데이콘\u001b[39m\u001b[38;5;124m\"\u001b[39m)     \u001b[38;5;66;03m# 모델에서 빈 값 (NaN) 생성 시 채점에 오류가 날 수 있음 [ 주의 ]\u001b[39;00m\n\u001b[1;32m      8\u001b[0m \u001b[38;5;66;03m# 결과를 CSV 파일로 저장\u001b[39;00m\n",
      "Cell \u001b[0;32mIn[12], line 5\u001b[0m, in \u001b[0;36m<listcomp>\u001b[0;34m(.0)\u001b[0m\n\u001b[1;32m      2\u001b[0m submit_df \u001b[38;5;241m=\u001b[39m pd\u001b[38;5;241m.\u001b[39mread_csv(\u001b[38;5;124m\"\u001b[39m\u001b[38;5;124m./sample_submission.csv\u001b[39m\u001b[38;5;124m\"\u001b[39m)\n\u001b[1;32m      4\u001b[0m \u001b[38;5;66;03m# 생성된 답변을 제출 DataFrame에 추가\u001b[39;00m\n\u001b[0;32m----> 5\u001b[0m submit_df[\u001b[38;5;124m'\u001b[39m\u001b[38;5;124mAnswer\u001b[39m\u001b[38;5;124m'\u001b[39m] \u001b[38;5;241m=\u001b[39m [\u001b[43mitem\u001b[49m\u001b[43m[\u001b[49m\u001b[38;5;124;43m'\u001b[39;49m\u001b[38;5;124;43mAnswer\u001b[39;49m\u001b[38;5;124;43m'\u001b[39;49m\u001b[43m]\u001b[49m \u001b[38;5;28;01mfor\u001b[39;00m item \u001b[38;5;129;01min\u001b[39;00m documents]\n\u001b[1;32m      6\u001b[0m submit_df[\u001b[38;5;124m'\u001b[39m\u001b[38;5;124mAnswer\u001b[39m\u001b[38;5;124m'\u001b[39m] \u001b[38;5;241m=\u001b[39m submit_df[\u001b[38;5;124m'\u001b[39m\u001b[38;5;124mAnswer\u001b[39m\u001b[38;5;124m'\u001b[39m]\u001b[38;5;241m.\u001b[39mfillna(\u001b[38;5;124m\"\u001b[39m\u001b[38;5;124m데이콘\u001b[39m\u001b[38;5;124m\"\u001b[39m)     \u001b[38;5;66;03m# 모델에서 빈 값 (NaN) 생성 시 채점에 오류가 날 수 있음 [ 주의 ]\u001b[39;00m\n\u001b[1;32m      8\u001b[0m \u001b[38;5;66;03m# 결과를 CSV 파일로 저장\u001b[39;00m\n",
      "\u001b[0;31mTypeError\u001b[0m: 'Document' object is not subscriptable"
     ]
    }
   ],
   "source": [
    "# 제출용 샘플 파일 로드\n",
    "submit_df = pd.read_csv(\"./sample_submission.csv\")\n",
    "\n",
    "# 생성된 답변을 제출 DataFrame에 추가\n",
    "submit_df['Answer'] = [item['Answer'] for item in documents]\n",
    "submit_df['Answer'] = submit_df['Answer'].fillna(\"데이콘\")     # 모델에서 빈 값 (NaN) 생성 시 채점에 오류가 날 수 있음 [ 주의 ]\n",
    "\n",
    "# 결과를 CSV 파일로 저장\n",
    "submit_df.to_csv(\"./8_22_submission.csv\", encoding='UTF-8-sig', index=False)\n",
    "\n"
   ]
  }
 ],
 "metadata": {
  "kernelspec": {
   "display_name": "dacon",
   "language": "python",
   "name": "python3"
  },
  "language_info": {
   "codemirror_mode": {
    "name": "ipython",
    "version": 3
   },
   "file_extension": ".py",
   "mimetype": "text/x-python",
   "name": "python",
   "nbconvert_exporter": "python",
   "pygments_lexer": "ipython3",
   "version": "3.11.9"
  }
 },
 "nbformat": 4,
 "nbformat_minor": 2
}
